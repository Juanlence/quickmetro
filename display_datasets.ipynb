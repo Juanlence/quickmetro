{
 "cells": [
  {
   "cell_type": "code",
   "execution_count": 2,
   "id": "d84b1a75-4e3c-4e7f-9510-d3caf392aee7",
   "metadata": {},
   "outputs": [],
   "source": [
    "import pandas as pd\n",
    "import geopandas as gpd"
   ]
  },
  {
   "cell_type": "code",
   "execution_count": 7,
   "id": "f583e79c-7a36-487b-8c86-2c73f9fc20a2",
   "metadata": {},
   "outputs": [],
   "source": [
    "pd.set_option('display.max_rows', 2)"
   ]
  },
  {
   "cell_type": "code",
   "execution_count": 4,
   "id": "0c3aece8-3999-405a-8f75-73fca25ac7aa",
   "metadata": {},
   "outputs": [],
   "source": [
    "original_lines_dataset = gpd.read_file('datasets/lineas-de-subte-zip/lineas-subte.shp')"
   ]
  },
  {
   "cell_type": "code",
   "execution_count": 8,
   "id": "94137fb2-462e-47bd-a46b-f14895050386",
   "metadata": {},
   "outputs": [
    {
     "data": {
      "text/html": [
       "<div>\n",
       "<style scoped>\n",
       "    .dataframe tbody tr th:only-of-type {\n",
       "        vertical-align: middle;\n",
       "    }\n",
       "\n",
       "    .dataframe tbody tr th {\n",
       "        vertical-align: top;\n",
       "    }\n",
       "\n",
       "    .dataframe thead th {\n",
       "        text-align: right;\n",
       "    }\n",
       "</style>\n",
       "<table border=\"1\" class=\"dataframe\">\n",
       "  <thead>\n",
       "    <tr style=\"text-align: right;\">\n",
       "      <th></th>\n",
       "      <th>ID</th>\n",
       "      <th>LINEASUB</th>\n",
       "      <th>geometry</th>\n",
       "    </tr>\n",
       "  </thead>\n",
       "  <tbody>\n",
       "    <tr>\n",
       "      <th>0</th>\n",
       "      <td>1</td>\n",
       "      <td>LINEA D</td>\n",
       "      <td>LINESTRING (-58.45213 -34.56622, -58.45163 -34...</td>\n",
       "    </tr>\n",
       "    <tr>\n",
       "      <th>...</th>\n",
       "      <td>...</td>\n",
       "      <td>...</td>\n",
       "      <td>...</td>\n",
       "    </tr>\n",
       "    <tr>\n",
       "      <th>81</th>\n",
       "      <td>82</td>\n",
       "      <td>LINEA E</td>\n",
       "      <td>LINESTRING (-58.37369 -34.60925, -58.37034 -34...</td>\n",
       "    </tr>\n",
       "  </tbody>\n",
       "</table>\n",
       "<p>82 rows × 3 columns</p>\n",
       "</div>"
      ],
      "text/plain": [
       "    ID LINEASUB                                           geometry\n",
       "0    1  LINEA D  LINESTRING (-58.45213 -34.56622, -58.45163 -34...\n",
       "..  ..      ...                                                ...\n",
       "81  82  LINEA E  LINESTRING (-58.37369 -34.60925, -58.37034 -34...\n",
       "\n",
       "[82 rows x 3 columns]"
      ]
     },
     "metadata": {},
     "output_type": "display_data"
    }
   ],
   "source": [
    "display(original_lines_dataset)"
   ]
  },
  {
   "cell_type": "code",
   "execution_count": 9,
   "id": "b486494b-e589-407a-9772-4641842d2207",
   "metadata": {},
   "outputs": [],
   "source": [
    "original_stations_data = gpd.read_file('datasets/estaciones-de-subte/estaciones-de-subte.shp')"
   ]
  },
  {
   "cell_type": "code",
   "execution_count": 10,
   "id": "95128897-0371-4660-b8cb-6504acd0a4a7",
   "metadata": {},
   "outputs": [
    {
     "data": {
      "text/html": [
       "<div>\n",
       "<style scoped>\n",
       "    .dataframe tbody tr th:only-of-type {\n",
       "        vertical-align: middle;\n",
       "    }\n",
       "\n",
       "    .dataframe tbody tr th {\n",
       "        vertical-align: top;\n",
       "    }\n",
       "\n",
       "    .dataframe thead th {\n",
       "        text-align: right;\n",
       "    }\n",
       "</style>\n",
       "<table border=\"1\" class=\"dataframe\">\n",
       "  <thead>\n",
       "    <tr style=\"text-align: right;\">\n",
       "      <th></th>\n",
       "      <th>ID</th>\n",
       "      <th>ESTACION</th>\n",
       "      <th>LINEA</th>\n",
       "      <th>geometry</th>\n",
       "    </tr>\n",
       "  </thead>\n",
       "  <tbody>\n",
       "    <tr>\n",
       "      <th>0</th>\n",
       "      <td>1.0</td>\n",
       "      <td>CASEROS</td>\n",
       "      <td>H</td>\n",
       "      <td>POINT (-58.39893 -34.63575)</td>\n",
       "    </tr>\n",
       "    <tr>\n",
       "      <th>...</th>\n",
       "      <td>...</td>\n",
       "      <td>...</td>\n",
       "      <td>...</td>\n",
       "      <td>...</td>\n",
       "    </tr>\n",
       "    <tr>\n",
       "      <th>89</th>\n",
       "      <td>88.0</td>\n",
       "      <td>CORREO CENTRAL</td>\n",
       "      <td>E</td>\n",
       "      <td>POINT (-58.37041 -34.60301)</td>\n",
       "    </tr>\n",
       "  </tbody>\n",
       "</table>\n",
       "<p>90 rows × 4 columns</p>\n",
       "</div>"
      ],
      "text/plain": [
       "      ID        ESTACION LINEA                     geometry\n",
       "0    1.0         CASEROS     H  POINT (-58.39893 -34.63575)\n",
       "..   ...             ...   ...                          ...\n",
       "89  88.0  CORREO CENTRAL     E  POINT (-58.37041 -34.60301)\n",
       "\n",
       "[90 rows x 4 columns]"
      ]
     },
     "metadata": {},
     "output_type": "display_data"
    }
   ],
   "source": [
    "display(original_stations_data)"
   ]
  },
  {
   "cell_type": "code",
   "execution_count": 11,
   "id": "570c4e0b-63b6-4b3b-9943-47903981b010",
   "metadata": {},
   "outputs": [],
   "source": [
    "lineas_tramos = gpd.read_file('./generated_datasets/lineas_tramos/lineas_tramos.shp')"
   ]
  },
  {
   "cell_type": "code",
   "execution_count": 12,
   "id": "53863723-477e-400f-8f80-e9a9256b6dcc",
   "metadata": {},
   "outputs": [
    {
     "data": {
      "text/html": [
       "<div>\n",
       "<style scoped>\n",
       "    .dataframe tbody tr th:only-of-type {\n",
       "        vertical-align: middle;\n",
       "    }\n",
       "\n",
       "    .dataframe tbody tr th {\n",
       "        vertical-align: top;\n",
       "    }\n",
       "\n",
       "    .dataframe thead th {\n",
       "        text-align: right;\n",
       "    }\n",
       "</style>\n",
       "<table border=\"1\" class=\"dataframe\">\n",
       "  <thead>\n",
       "    <tr style=\"text-align: right;\">\n",
       "      <th></th>\n",
       "      <th>LINEASUB</th>\n",
       "      <th>est_lin_o</th>\n",
       "      <th>est_lin_d</th>\n",
       "      <th>color</th>\n",
       "      <th>geometry</th>\n",
       "    </tr>\n",
       "  </thead>\n",
       "  <tbody>\n",
       "    <tr>\n",
       "      <th>0</th>\n",
       "      <td>LINEA A</td>\n",
       "      <td>null</td>\n",
       "      <td>Alberti_A</td>\n",
       "      <td>#00aee0</td>\n",
       "      <td>LINESTRING (-58.37097 -34.60881, -58.37226 -34...</td>\n",
       "    </tr>\n",
       "    <tr>\n",
       "      <th>...</th>\n",
       "      <td>...</td>\n",
       "      <td>...</td>\n",
       "      <td>...</td>\n",
       "      <td>...</td>\n",
       "      <td>...</td>\n",
       "    </tr>\n",
       "    <tr>\n",
       "      <th>33</th>\n",
       "      <td>LINEA E</td>\n",
       "      <td>Belgrano_E</td>\n",
       "      <td>Bolivar_E</td>\n",
       "      <td>#7c2681</td>\n",
       "      <td>LINESTRING (-58.39707 -34.62311, -58.39707 -34...</td>\n",
       "    </tr>\n",
       "  </tbody>\n",
       "</table>\n",
       "<p>34 rows × 5 columns</p>\n",
       "</div>"
      ],
      "text/plain": [
       "   LINEASUB   est_lin_o  est_lin_d    color  \\\n",
       "0   LINEA A        null  Alberti_A  #00aee0   \n",
       "..      ...         ...        ...      ...   \n",
       "33  LINEA E  Belgrano_E  Bolivar_E  #7c2681   \n",
       "\n",
       "                                             geometry  \n",
       "0   LINESTRING (-58.37097 -34.60881, -58.37226 -34...  \n",
       "..                                                ...  \n",
       "33  LINESTRING (-58.39707 -34.62311, -58.39707 -34...  \n",
       "\n",
       "[34 rows x 5 columns]"
      ]
     },
     "metadata": {},
     "output_type": "display_data"
    }
   ],
   "source": [
    "display(lineas_tramos)"
   ]
  },
  {
   "cell_type": "code",
   "execution_count": 13,
   "id": "c17263ff-3d65-4648-84bd-b8f78cda91c2",
   "metadata": {},
   "outputs": [],
   "source": [
    "stations_data_set = gpd.read_file('./generated_datasets/stations/stations_dataset.shp')"
   ]
  },
  {
   "cell_type": "code",
   "execution_count": 14,
   "id": "47ec314a-ed11-49e9-802a-51ca6e8cd3de",
   "metadata": {},
   "outputs": [
    {
     "data": {
      "text/html": [
       "<div>\n",
       "<style scoped>\n",
       "    .dataframe tbody tr th:only-of-type {\n",
       "        vertical-align: middle;\n",
       "    }\n",
       "\n",
       "    .dataframe tbody tr th {\n",
       "        vertical-align: top;\n",
       "    }\n",
       "\n",
       "    .dataframe thead th {\n",
       "        text-align: right;\n",
       "    }\n",
       "</style>\n",
       "<table border=\"1\" class=\"dataframe\">\n",
       "  <thead>\n",
       "    <tr style=\"text-align: right;\">\n",
       "      <th></th>\n",
       "      <th>ESTACION</th>\n",
       "      <th>LINEASUB</th>\n",
       "      <th>est_lin</th>\n",
       "      <th>color</th>\n",
       "      <th>geometry</th>\n",
       "    </tr>\n",
       "  </thead>\n",
       "  <tbody>\n",
       "    <tr>\n",
       "      <th>0</th>\n",
       "      <td>9 de Julio</td>\n",
       "      <td>LINEA D</td>\n",
       "      <td>9_de_Julio_D</td>\n",
       "      <td>#027a61</td>\n",
       "      <td>POINT (-58.38057 -34.60425)</td>\n",
       "    </tr>\n",
       "    <tr>\n",
       "      <th>...</th>\n",
       "      <td>...</td>\n",
       "      <td>...</td>\n",
       "      <td>...</td>\n",
       "      <td>...</td>\n",
       "      <td>...</td>\n",
       "    </tr>\n",
       "    <tr>\n",
       "      <th>33</th>\n",
       "      <td>Leandro N. Alem</td>\n",
       "      <td>LINEA B</td>\n",
       "      <td>Leandro_N_Alem_B</td>\n",
       "      <td>#e63629</td>\n",
       "      <td>POINT (-58.36993 -34.60299)</td>\n",
       "    </tr>\n",
       "  </tbody>\n",
       "</table>\n",
       "<p>34 rows × 5 columns</p>\n",
       "</div>"
      ],
      "text/plain": [
       "           ESTACION LINEASUB           est_lin    color  \\\n",
       "0        9 de Julio  LINEA D      9_de_Julio_D  #027a61   \n",
       "..              ...      ...               ...      ...   \n",
       "33  Leandro N. Alem  LINEA B  Leandro_N_Alem_B  #e63629   \n",
       "\n",
       "                       geometry  \n",
       "0   POINT (-58.38057 -34.60425)  \n",
       "..                          ...  \n",
       "33  POINT (-58.36993 -34.60299)  \n",
       "\n",
       "[34 rows x 5 columns]"
      ]
     },
     "metadata": {},
     "output_type": "display_data"
    }
   ],
   "source": [
    "display(stations_data_set)"
   ]
  }
 ],
 "metadata": {
  "kernelspec": {
   "display_name": "Python 3 (ipykernel)",
   "language": "python",
   "name": "python3"
  },
  "language_info": {
   "codemirror_mode": {
    "name": "ipython",
    "version": 3
   },
   "file_extension": ".py",
   "mimetype": "text/x-python",
   "name": "python",
   "nbconvert_exporter": "python",
   "pygments_lexer": "ipython3",
   "version": "3.12.4"
  }
 },
 "nbformat": 4,
 "nbformat_minor": 5
}
